{
 "cells": [
  {
   "cell_type": "markdown",
   "metadata": {},
   "source": [
    "# Python Data Structures Part 3 Dictionaries"
   ]
  },
  {
   "cell_type": "markdown",
   "metadata": {},
   "source": [
    "### This notebook is about  Python dictionaries.\n",
    "\n",
    "A Python `dict` is a mutable set of key,value pairs.\n",
    "\n",
    "* lists\n",
    "* tuples\n",
    "* sets\n",
    "* **dicts**\n",
    "\n",
    "part of **#100DaysofCode Python Edition** follow along at [https://jcutrer.com/100daysofcode](https://jcutrer.com/100daysofcode/2019-index?utm_source=github&utm_medium=python_notebook&utm_campaign=100daysofcode)\n",
    "\n",
    "Python Docs Reference: https://docs.python.org/3/tutorial/datastructures.html"
   ]
  },
  {
   "cell_type": "markdown",
   "metadata": {},
   "source": [
    "## Dictionaries"
   ]
  },
  {
   "cell_type": "markdown",
   "metadata": {},
   "source": [
    "A pair of curly braces create an empty dictionary."
   ]
  },
  {
   "cell_type": "code",
   "execution_count": 5,
   "metadata": {},
   "outputs": [
    {
     "data": {
      "text/plain": [
       "{}"
      ]
     },
     "execution_count": 5,
     "metadata": {},
     "output_type": "execute_result"
    }
   ],
   "source": [
    "{}"
   ]
  },
  {
   "cell_type": "code",
   "execution_count": 10,
   "metadata": {},
   "outputs": [
    {
     "data": {
      "text/plain": [
       "dict"
      ]
     },
     "execution_count": 10,
     "metadata": {},
     "output_type": "execute_result"
    }
   ],
   "source": [
    "type({})"
   ]
  },
  {
   "cell_type": "markdown",
   "metadata": {},
   "source": [
    "If you remember from the last section `{}` are also used to create sets."
   ]
  },
  {
   "cell_type": "code",
   "execution_count": 9,
   "metadata": {},
   "outputs": [
    {
     "data": {
      "text/plain": [
       "set"
      ]
     },
     "execution_count": 9,
     "metadata": {},
     "output_type": "execute_result"
    }
   ],
   "source": [
    "a = {'hello'}\n",
    "type(a)"
   ]
  },
  {
   "cell_type": "markdown",
   "metadata": {},
   "source": [
    "This difference being that each item in a `dict` is a key value pair delimited with a `:`.  Keys can be number as well."
   ]
  },
  {
   "cell_type": "code",
   "execution_count": 15,
   "metadata": {},
   "outputs": [
    {
     "name": "stdout",
     "output_type": "stream",
     "text": [
      "{'Hello': 'World', 1: 2}\n"
     ]
    }
   ],
   "source": [
    "a = {\"Hello\": \"World\", 1:2}\n",
    "type(a)\n",
    "print(a)"
   ]
  },
  {
   "cell_type": "markdown",
   "metadata": {},
   "source": [
    "`len()` will return the number of items in a dictionary"
   ]
  },
  {
   "cell_type": "code",
   "execution_count": 65,
   "metadata": {},
   "outputs": [
    {
     "data": {
      "text/plain": [
       "3"
      ]
     },
     "execution_count": 65,
     "metadata": {},
     "output_type": "execute_result"
    }
   ],
   "source": [
    "a = {'lat': 25.54241, 'long': -100.24362, 'altitude': 835}\n",
    "len(a)"
   ]
  },
  {
   "cell_type": "markdown",
   "metadata": {},
   "source": [
    "Acces item of a `dict` by passing the disired key between square brackets. "
   ]
  },
  {
   "cell_type": "code",
   "execution_count": 26,
   "metadata": {
    "scrolled": false
   },
   "outputs": [
    {
     "name": "stdout",
     "output_type": "stream",
     "text": [
      "25.54241 -100.24362\n"
     ]
    }
   ],
   "source": [
    "print(a[\"lat\"], a[\"long\"])\n"
   ]
  },
  {
   "cell_type": "code",
   "execution_count": 67,
   "metadata": {},
   "outputs": [
    {
     "data": {
      "text/plain": [
       "835"
      ]
     },
     "execution_count": 67,
     "metadata": {},
     "output_type": "execute_result"
    }
   ],
   "source": [
    "a.get(\"altitude\") # equivelant to a[\"altitude\"]"
   ]
  },
  {
   "cell_type": "markdown",
   "metadata": {},
   "source": [
    "When a non-existent key is accessed a `KeyError` exception is raised"
   ]
  },
  {
   "cell_type": "code",
   "execution_count": 17,
   "metadata": {},
   "outputs": [
    {
     "ename": "KeyError",
     "evalue": "0",
     "output_type": "error",
     "traceback": [
      "\u001b[1;31m---------------------------------------------------------------------------\u001b[0m",
      "\u001b[1;31mKeyError\u001b[0m                                  Traceback (most recent call last)",
      "\u001b[1;32m<ipython-input-17-6a1284577a36>\u001b[0m in \u001b[0;36m<module>\u001b[1;34m\u001b[0m\n\u001b[1;32m----> 1\u001b[1;33m \u001b[0ma\u001b[0m\u001b[1;33m[\u001b[0m\u001b[1;36m0\u001b[0m\u001b[1;33m]\u001b[0m\u001b[1;33m\u001b[0m\u001b[1;33m\u001b[0m\u001b[0m\n\u001b[0m",
      "\u001b[1;31mKeyError\u001b[0m: 0"
     ]
    }
   ],
   "source": [
    "a[0]"
   ]
  },
  {
   "cell_type": "markdown",
   "metadata": {},
   "source": [
    "Add items to a `dict`"
   ]
  },
  {
   "cell_type": "code",
   "execution_count": 78,
   "metadata": {},
   "outputs": [
    {
     "data": {
      "text/plain": [
       "{'first': 'John', 'last': 'Doe', 'age': 23, 'hair': 'Brown'}"
      ]
     },
     "execution_count": 78,
     "metadata": {},
     "output_type": "execute_result"
    }
   ],
   "source": [
    "person = {\"first\": \"John\", \"last\": \"Doe\", \"age\": 23}\n",
    "person[\"hair\"] = \"Brown\"\n",
    "person"
   ]
  },
  {
   "cell_type": "markdown",
   "metadata": {},
   "source": [
    "Update values by key"
   ]
  },
  {
   "cell_type": "code",
   "execution_count": 79,
   "metadata": {
    "scrolled": true
   },
   "outputs": [
    {
     "data": {
      "text/plain": [
       "{'first': 'Jane', 'last': 'Doe', 'age': 23}"
      ]
     },
     "execution_count": 79,
     "metadata": {},
     "output_type": "execute_result"
    }
   ],
   "source": [
    "person = {\"first\": \"John\", \"last\": \"Doe\", \"age\": 23}\n",
    "person[\"first\"] = \"Jane\"\n",
    "person"
   ]
  },
  {
   "cell_type": "markdown",
   "metadata": {},
   "source": [
    "remove items from a `dict`"
   ]
  },
  {
   "cell_type": "code",
   "execution_count": 63,
   "metadata": {},
   "outputs": [
    {
     "name": "stdout",
     "output_type": "stream",
     "text": [
      "{'first': 'John', 'age': 23}\n"
     ]
    }
   ],
   "source": [
    "person = {\"first\": \"John\", \"last\": \"Doe\", \"age\": 23}\n",
    "del person[\"last\"]\n",
    "print(person)"
   ]
  },
  {
   "cell_type": "markdown",
   "metadata": {},
   "source": [
    "tesing for a key in a `dict`"
   ]
  },
  {
   "cell_type": "code",
   "execution_count": 36,
   "metadata": {},
   "outputs": [
    {
     "data": {
      "text/plain": [
       "True"
      ]
     },
     "execution_count": 36,
     "metadata": {},
     "output_type": "execute_result"
    }
   ],
   "source": [
    "\"first\" in person"
   ]
  },
  {
   "cell_type": "code",
   "execution_count": 38,
   "metadata": {},
   "outputs": [
    {
     "data": {
      "text/plain": [
       "False"
      ]
     },
     "execution_count": 38,
     "metadata": {},
     "output_type": "execute_result"
    }
   ],
   "source": [
    "\"last\" in person"
   ]
  },
  {
   "cell_type": "markdown",
   "metadata": {},
   "source": [
    "Extract all keys from a `dict`"
   ]
  },
  {
   "cell_type": "code",
   "execution_count": 46,
   "metadata": {},
   "outputs": [
    {
     "name": "stdout",
     "output_type": "stream",
     "text": [
      "dict_keys(['first', 'last', 'age'])\n"
     ]
    }
   ],
   "source": [
    "person = {\"first\": \"John\", \"last\": \"Doe\", \"age\": 23}\n",
    "keys = person.keys()\n",
    "print(keys)"
   ]
  },
  {
   "cell_type": "code",
   "execution_count": 50,
   "metadata": {},
   "outputs": [
    {
     "data": {
      "text/plain": [
       "dict_keys"
      ]
     },
     "execution_count": 50,
     "metadata": {},
     "output_type": "execute_result"
    }
   ],
   "source": [
    "type(keys)"
   ]
  },
  {
   "cell_type": "markdown",
   "metadata": {},
   "source": [
    "---"
   ]
  },
  {
   "cell_type": "markdown",
   "metadata": {},
   "source": [
    "### dict looping"
   ]
  },
  {
   "cell_type": "markdown",
   "metadata": {},
   "source": [
    "looping over items in a `dict`"
   ]
  },
  {
   "cell_type": "code",
   "execution_count": 30,
   "metadata": {},
   "outputs": [
    {
     "name": "stdout",
     "output_type": "stream",
     "text": [
      "lat\n",
      "long\n",
      "altitude\n"
     ]
    }
   ],
   "source": [
    "location = {'lat': 25.54241, 'long': -100.24362, 'altitude': 835}\n",
    "for item in location:\n",
    "    print(item)"
   ]
  },
  {
   "cell_type": "markdown",
   "metadata": {},
   "source": [
    "in this example we only get the values of each item"
   ]
  },
  {
   "cell_type": "markdown",
   "metadata": {},
   "source": [
    "looping over a `dict` with access to key and value "
   ]
  },
  {
   "cell_type": "code",
   "execution_count": 40,
   "metadata": {
    "scrolled": true
   },
   "outputs": [
    {
     "name": "stdout",
     "output_type": "stream",
     "text": [
      "lat = 25.54241\n",
      "long = -100.24362\n",
      "altitude = 835\n"
     ]
    }
   ],
   "source": [
    "location = {'lat': 25.54241, 'long': -100.24362, 'altitude': 835}\n",
    "for key,item in location.items():\n",
    "    print(key, \"=\", item)"
   ]
  },
  {
   "cell_type": "markdown",
   "metadata": {},
   "source": [
    "### comparing dictionaries"
   ]
  },
  {
   "cell_type": "markdown",
   "metadata": {},
   "source": []
  },
  {
   "cell_type": "code",
   "execution_count": 42,
   "metadata": {},
   "outputs": [],
   "source": [
    "a = {\"first\":1, \"avg\": 2, \"last\": 3}\n",
    "b = {\"first\":11, \"avg\": 22, \"last\": 33}"
   ]
  },
  {
   "cell_type": "markdown",
   "metadata": {},
   "source": [
    "### sorting & counting dictionaries"
   ]
  },
  {
   "cell_type": "markdown",
   "metadata": {},
   "source": [
    "Alpha Sort items by key"
   ]
  },
  {
   "cell_type": "code",
   "execution_count": 23,
   "metadata": {},
   "outputs": [
    {
     "name": "stdout",
     "output_type": "stream",
     "text": [
      "apples\t\t 34\n",
      "bananas\t\t 66\n",
      "kiwis\t\t 35\n",
      "oranges\t\t 54\n",
      "pairs\t\t 12\n"
     ]
    }
   ],
   "source": [
    "inventory = {\n",
    "    \"apples\": 34,\n",
    "    \"oranges\": 54,\n",
    "    \"bananas\": 66,\n",
    "    \"pairs\": 12,\n",
    "    \"kiwis\": 35\n",
    "}\n",
    "for key, value in sorted(inventory.items()):\n",
    "    print (key + \"\\t\\t\", value)"
   ]
  },
  {
   "cell_type": "markdown",
   "metadata": {},
   "source": [
    "Sort items by len of value"
   ]
  },
  {
   "cell_type": "code",
   "execution_count": 29,
   "metadata": {},
   "outputs": [
    {
     "name": "stdout",
     "output_type": "stream",
     "text": [
      "pairs\t 12\n",
      "apples\t 34\n",
      "kiwis\t 35\n",
      "oranges\t 54\n",
      "bananas\t 66\n"
     ]
    },
    {
     "data": {
      "text/plain": [
       "['pairs', 'kiwis', 'apples', 'oranges', 'bananas']"
      ]
     },
     "execution_count": 29,
     "metadata": {},
     "output_type": "execute_result"
    }
   ],
   "source": [
    "inventory = {\n",
    "    \"apples\": 34,\n",
    "    \"oranges\": 54,\n",
    "    \"bananas\": 66,\n",
    "    \"pairs\": 12,\n",
    "    \"kiwis\": 35\n",
    "}\n",
    "\n",
    "for key,value in sorted(inventory.items(), key=lambda x: x[1] ):\n",
    "    print (key + \"\\t\", value)\n",
    "\n",
    "sorted(inventory, key=len)"
   ]
  },
  {
   "cell_type": "markdown",
   "metadata": {},
   "source": [
    "Find the some of all dictionary values"
   ]
  },
  {
   "cell_type": "code",
   "execution_count": 35,
   "metadata": {},
   "outputs": [
    {
     "name": "stdout",
     "output_type": "stream",
     "text": [
      "Total fruit count: 201\n"
     ]
    }
   ],
   "source": [
    "inventory = {\n",
    "    \"apples\": 34,\n",
    "    \"oranges\": 54,\n",
    "    \"bananas\": 66,\n",
    "    \"pairs\": 12,\n",
    "    \"kiwis\": 35\n",
    "}\n",
    "\n",
    "total_count = sum(inventory.values())\n",
    "print(\"Total fruit count:\", total_count)"
   ]
  },
  {
   "cell_type": "markdown",
   "metadata": {},
   "source": [
    "### OrderedDict"
   ]
  },
  {
   "cell_type": "markdown",
   "metadata": {},
   "source": [
    "Python 3 introduced a new type of dictionary, an ordered dictionary preserves the order of keys as you would expect them to appear."
   ]
  },
  {
   "cell_type": "markdown",
   "metadata": {},
   "source": [
    "Historically, a `dict` does not preserve the order of keys.  We can see this if we add additional keys."
   ]
  },
  {
   "cell_type": "code",
   "execution_count": 83,
   "metadata": {
    "scrolled": true
   },
   "outputs": [
    {
     "data": {
      "text/plain": [
       "{'monday': 8,\n",
       " 'tuesday': 8,\n",
       " 'wednesday': 8,\n",
       " 'saturday': 8,\n",
       " 'sunday': 8,\n",
       " 'thursday': 8}"
      ]
     },
     "execution_count": 83,
     "metadata": {},
     "output_type": "execute_result"
    }
   ],
   "source": [
    "days = {\"monday\": 8, \"tuesday\": 8, \"wednesday\": 8}\n",
    "days[\"saturday\"] = 8\n",
    "days[\"sunday\"] = 8\n",
    "days[\"thursday\"] = 8\n",
    "days"
   ]
  },
  {
   "cell_type": "markdown",
   "metadata": {},
   "source": [
    "### Size of `dict` vs other data structures"
   ]
  },
  {
   "cell_type": "code",
   "execution_count": 92,
   "metadata": {},
   "outputs": [
    {
     "data": {
      "text/plain": [
       "112"
      ]
     },
     "execution_count": 92,
     "metadata": {},
     "output_type": "execute_result"
    }
   ],
   "source": [
    "somelist = [\"abc\", \"def\", \"ghi\", \"jkl\", \"mno\", \"pqr\", \"stu\", \"vwx\", \"yz\"]\n",
    "somelist.__sizeof__()"
   ]
  },
  {
   "cell_type": "code",
   "execution_count": 103,
   "metadata": {},
   "outputs": [
    {
     "data": {
      "text/plain": [
       "344"
      ]
     },
     "execution_count": 103,
     "metadata": {},
     "output_type": "execute_result"
    }
   ],
   "source": [
    "somedict = dict(zip(range(0, len(somelist)), somelist))\n",
    "somedict.__sizeof__()"
   ]
  },
  {
   "cell_type": "code",
   "execution_count": 104,
   "metadata": {},
   "outputs": [
    {
     "data": {
      "text/plain": [
       "344"
      ]
     },
     "execution_count": 104,
     "metadata": {},
     "output_type": "execute_result"
    }
   ],
   "source": [
    "somedict = {0:\"abc\", 1: \"def\", 2: \"ghi\", 3: \"jkl\", 4: \"mno\", 5: \"pqr\", 6: \"stu\", 7: \"vwx\", 8: \"yz\"}\n",
    "somedict.__sizeof__()"
   ]
  },
  {
   "cell_type": "markdown",
   "metadata": {},
   "source": [
    "as we can see `dict` uses 3x the memory of a `list`"
   ]
  },
  {
   "cell_type": "markdown",
   "metadata": {},
   "source": [
    "This notebook is part of my **#100DaysofCode Python Edition** project.\n",
    "\n",
    "* [View Github Repo](https://github.com/joncutrer/100DaysOfCode2019)\n",
    "* [Follow along on jcutrer.com](https://jcutrer.com/100daysofcode/2019-index?utm_source=github&utm_medium=python_notebook&utm_campaign=100daysofcode)"
   ]
  }
 ],
 "metadata": {
  "kernelspec": {
   "display_name": "Python 3",
   "language": "python",
   "name": "python3"
  },
  "language_info": {
   "codemirror_mode": {
    "name": "ipython",
    "version": 3
   },
   "file_extension": ".py",
   "mimetype": "text/x-python",
   "name": "python",
   "nbconvert_exporter": "python",
   "pygments_lexer": "ipython3",
   "version": "3.6.7"
  }
 },
 "nbformat": 4,
 "nbformat_minor": 2
}
