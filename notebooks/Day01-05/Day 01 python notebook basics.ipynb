{
 "cells": [
  {
   "cell_type": "markdown",
   "metadata": {},
   "source": [
    "# Day 01 of #100DaysofCode Python Edition \n",
    "\n",
    "follow along at https://jcutrer.com/100daysofcode\n",
    "\n",
    "This is not meant to be a introductory or comprehensive python course.  I will skip around from basic concepts to sometimes complex ones."
   ]
  },
  {
   "cell_type": "markdown",
   "metadata": {},
   "source": [
    "## Python Basics Revised"
   ]
  },
  {
   "cell_type": "code",
   "execution_count": 70,
   "metadata": {},
   "outputs": [
    {
     "name": "stdout",
     "output_type": "stream",
     "text": [
      "<class 'int'>\n",
      "<class 'float'>\n",
      "<class 'str'>\n"
     ]
    }
   ],
   "source": [
    "# type() reveals a variable's data type\n",
    "a = 1\n",
    "b = 1.243454554365756\n",
    "c = 'Hello String'\n",
    "\n",
    "print(type(a))\n",
    "print(type(b))\n",
    "print(type(c))"
   ]
  },
  {
   "cell_type": "markdown",
   "metadata": {},
   "source": [
    "### Integers"
   ]
  },
  {
   "cell_type": "code",
   "execution_count": 69,
   "metadata": {},
   "outputs": [
    {
     "name": "stdout",
     "output_type": "stream",
     "text": [
      "<class 'int'>\n"
     ]
    }
   ],
   "source": [
    "a = 1\n",
    "b = 10\n",
    "c = 100\n",
    "d = 33\n",
    "c = 66\n",
    "\n",
    "# adding two ints returns an int\n",
    "print(type(a + b))"
   ]
  },
  {
   "cell_type": "markdown",
   "metadata": {},
   "source": [
    "### Casting Integers"
   ]
  },
  {
   "cell_type": "code",
   "execution_count": 64,
   "metadata": {},
   "outputs": [
    {
     "ename": "TypeError",
     "evalue": "unsupported operand type(s) for +: 'int' and 'str'",
     "output_type": "error",
     "traceback": [
      "\u001b[1;31m---------------------------------------------------------------------------\u001b[0m",
      "\u001b[1;31mTypeError\u001b[0m                                 Traceback (most recent call last)",
      "\u001b[1;32m<ipython-input-64-6748cfa383ab>\u001b[0m in \u001b[0;36m<module>\u001b[1;34m\u001b[0m\n\u001b[0;32m      1\u001b[0m \u001b[1;31m# Try to add(+) a string and an integer will raise a TypeError\u001b[0m\u001b[1;33m\u001b[0m\u001b[1;33m\u001b[0m\u001b[1;33m\u001b[0m\u001b[0m\n\u001b[1;32m----> 2\u001b[1;33m \u001b[0mprint\u001b[0m\u001b[1;33m(\u001b[0m\u001b[0ma\u001b[0m \u001b[1;33m+\u001b[0m \u001b[1;34m\" dollars\"\u001b[0m\u001b[1;33m)\u001b[0m\u001b[1;33m\u001b[0m\u001b[1;33m\u001b[0m\u001b[0m\n\u001b[0m",
      "\u001b[1;31mTypeError\u001b[0m: unsupported operand type(s) for +: 'int' and 'str'"
     ]
    }
   ],
   "source": [
    "# Try to add(+) a string and an integer will raise a TypeError\n",
    "print(a + \" dollars\")"
   ]
  },
  {
   "cell_type": "code",
   "execution_count": 45,
   "metadata": {},
   "outputs": [
    {
     "name": "stdout",
     "output_type": "stream",
     "text": [
      "66 dollars\n"
     ]
    }
   ],
   "source": [
    "# Use str() to cast an integer to a string\n",
    "print( str(c) + \" dollars\")"
   ]
  },
  {
   "cell_type": "markdown",
   "metadata": {},
   "source": [
    "### Basic Math"
   ]
  },
  {
   "cell_type": "code",
   "execution_count": 63,
   "metadata": {},
   "outputs": [
    {
     "name": "stdout",
     "output_type": "stream",
     "text": [
      "30\n",
      "10\n",
      "200\n",
      "2.0\n",
      "<class 'float'>\n",
      "6.666666666666667\n",
      "<class 'float'>\n"
     ]
    }
   ],
   "source": [
    "# Add +\n",
    "print(20 + 10)\n",
    "\n",
    "# Substract\n",
    "print( 20 - 10)\n",
    "\n",
    "# Multiply *\n",
    "print( 20 * 10)\n",
    "\n",
    "# Division /\n",
    "print(20 / 10)\n",
    "\n",
    "# Division always returns a float\n",
    "print(type(20 / 10))\n",
    "\n",
    "# Even if the answer is a whole number\n",
    "print(20 / 3)\n",
    "print(type(20 / 3))"
   ]
  },
  {
   "cell_type": "markdown",
   "metadata": {},
   "source": [
    "### Strings\n",
    "\n",
    "String in python can be surrounded by either single and doube quotes, both work the same.\n",
    "\n",
    "PEP8 does not make a recommendation regarding quotes, use whichever one feels right to you.\n"
   ]
  },
  {
   "cell_type": "code",
   "execution_count": 20,
   "metadata": {},
   "outputs": [
    {
     "name": "stdout",
     "output_type": "stream",
     "text": [
      "<class 'str'>\n",
      "A string\n",
      "<class 'str'>\n",
      "is a string\n",
      "<class 'str'>\n",
      "A stringis a string\n",
      "A string is a string\n"
     ]
    }
   ],
   "source": [
    "str1 = 'A string'\n",
    "print(type(str1))\n",
    "print(str1)\n",
    "\n",
    "str2 = 'is a string'\n",
    "print(type(str2))\n",
    "print(str2)\n",
    "\n",
    "# + operator concatenates two strings and returns type 'str'\n",
    "print(type(str1 + str2))\n",
    "print(str1 + str2)\n",
    "\n",
    "# sending multiple arguments will output with a space seperator\n",
    "print( str1, str2)"
   ]
  },
  {
   "cell_type": "markdown",
   "metadata": {},
   "source": [
    "## range()\n",
    "\n",
    "I always get tripped up with range()"
   ]
  },
  {
   "cell_type": "code",
   "execution_count": 36,
   "metadata": {},
   "outputs": [
    {
     "name": "stdout",
     "output_type": "stream",
     "text": [
      "<class 'range'>\n",
      "len= 5\n",
      "5\n",
      "0\n",
      "1\n",
      "2\n",
      "3\n",
      "4\n"
     ]
    }
   ],
   "source": [
    "# Range returns a sequence of numbers\n",
    "a=range(5)\n",
    "# range() does not return a list, it's an instance of the range class\n",
    "print(type(a))\n",
    "print('len=', len(a))\n",
    "print(len(a))\n",
    "for i in a:\n",
    "    print(i)"
   ]
  },
  {
   "cell_type": "code",
   "execution_count": 28,
   "metadata": {},
   "outputs": [
    {
     "name": "stdout",
     "output_type": "stream",
     "text": [
      "range(0, 5)\n",
      "5\n",
      "0\n",
      "1\n",
      "2\n",
      "3\n",
      "4\n"
     ]
    }
   ],
   "source": [
    "b=range(0, 5)\n",
    "print(b)\n",
    "print(len(b))\n",
    "for i in b:\n",
    "    print(i)\n",
    "    \n"
   ]
  },
  {
   "cell_type": "code",
   "execution_count": 29,
   "metadata": {},
   "outputs": [
    {
     "ename": "SyntaxError",
     "evalue": "invalid syntax (<ipython-input-29-0e805fb81796>, line 1)",
     "output_type": "error",
     "traceback": [
      "\u001b[1;36m  File \u001b[1;32m\"<ipython-input-29-0e805fb81796>\"\u001b[1;36m, line \u001b[1;32m1\u001b[0m\n\u001b[1;33m    c=range(,5)\u001b[0m\n\u001b[1;37m            ^\u001b[0m\n\u001b[1;31mSyntaxError\u001b[0m\u001b[1;31m:\u001b[0m invalid syntax\n"
     ]
    }
   ],
   "source": [
    "# This doesnt work\n",
    "c=range(,5)\n",
    "print(c)\n",
    "print(len(c))\n",
    "for i in c:\n",
    "    print(i)"
   ]
  },
  {
   "cell_type": "markdown",
   "metadata": {},
   "source": [
    "## TODO String encoding types ascii, utf8, binary"
   ]
  },
  {
   "cell_type": "code",
   "execution_count": 46,
   "metadata": {},
   "outputs": [],
   "source": [
    "# nothing here yet"
   ]
  },
  {
   "cell_type": "markdown",
   "metadata": {},
   "source": [
    "That's it for Day #1 of #100DaysofCode!"
   ]
  },
  {
   "cell_type": "code",
   "execution_count": null,
   "metadata": {},
   "outputs": [],
   "source": []
  }
 ],
 "metadata": {
  "kernelspec": {
   "display_name": "Python 3",
   "language": "python",
   "name": "python3"
  },
  "language_info": {
   "codemirror_mode": {
    "name": "ipython",
    "version": 3
   },
   "file_extension": ".py",
   "mimetype": "text/x-python",
   "name": "python",
   "nbconvert_exporter": "python",
   "pygments_lexer": "ipython3",
   "version": "3.6.7"
  }
 },
 "nbformat": 4,
 "nbformat_minor": 2
}
