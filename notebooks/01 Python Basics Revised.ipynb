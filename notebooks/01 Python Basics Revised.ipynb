{
 "cells": [
  {
   "cell_type": "markdown",
   "metadata": {},
   "source": [
    "# Python Basics Revised"
   ]
  },
  {
   "cell_type": "markdown",
   "metadata": {},
   "source": [
    "### This notebook covers Python primitive types\n",
    "\n",
    "Lists are Python data structures similar to arrays in other languages\n",
    "\n",
    "part of **#100DaysofCode Python Edition** follow along at [https://jcutrer.com/100daysofcode](https://jcutrer.com/100daysofcode/2019-index?utm_source=github&utm_medium=python_notebook&utm_campaign=100daysofcode)\n"
   ]
  },
  {
   "cell_type": "code",
   "execution_count": 1,
   "metadata": {},
   "outputs": [
    {
     "name": "stdout",
     "output_type": "stream",
     "text": [
      "<class 'int'>\n",
      "<class 'float'>\n",
      "<class 'str'>\n"
     ]
    }
   ],
   "source": [
    "# type() reveals a variable's data type\n",
    "a = 1\n",
    "b = 1.243454554365756\n",
    "c = 'Hello String'\n",
    "\n",
    "print(type(a))\n",
    "print(type(b))\n",
    "print(type(c))"
   ]
  },
  {
   "cell_type": "markdown",
   "metadata": {},
   "source": [
    "### Integers"
   ]
  },
  {
   "cell_type": "code",
   "execution_count": 2,
   "metadata": {},
   "outputs": [
    {
     "name": "stdout",
     "output_type": "stream",
     "text": [
      "<class 'int'>\n"
     ]
    }
   ],
   "source": [
    "a = 1\n",
    "b = 10\n",
    "c = 100\n",
    "d = 33\n",
    "c = 66\n",
    "\n",
    "# adding two ints returns an int\n",
    "print(type(a + b))"
   ]
  },
  {
   "cell_type": "markdown",
   "metadata": {},
   "source": [
    "### Casting Integers"
   ]
  },
  {
   "cell_type": "code",
   "execution_count": 3,
   "metadata": {},
   "outputs": [
    {
     "ename": "TypeError",
     "evalue": "unsupported operand type(s) for +: 'int' and 'str'",
     "output_type": "error",
     "traceback": [
      "\u001b[1;31m---------------------------------------------------------------------------\u001b[0m",
      "\u001b[1;31mTypeError\u001b[0m                                 Traceback (most recent call last)",
      "\u001b[1;32m<ipython-input-3-6748cfa383ab>\u001b[0m in \u001b[0;36m<module>\u001b[1;34m\u001b[0m\n\u001b[0;32m      1\u001b[0m \u001b[1;31m# Try to add(+) a string and an integer will raise a TypeError\u001b[0m\u001b[1;33m\u001b[0m\u001b[1;33m\u001b[0m\u001b[1;33m\u001b[0m\u001b[0m\n\u001b[1;32m----> 2\u001b[1;33m \u001b[0mprint\u001b[0m\u001b[1;33m(\u001b[0m\u001b[0ma\u001b[0m \u001b[1;33m+\u001b[0m \u001b[1;34m\" dollars\"\u001b[0m\u001b[1;33m)\u001b[0m\u001b[1;33m\u001b[0m\u001b[1;33m\u001b[0m\u001b[0m\n\u001b[0m",
      "\u001b[1;31mTypeError\u001b[0m: unsupported operand type(s) for +: 'int' and 'str'"
     ]
    }
   ],
   "source": [
    "# Try to add(+) a string and an integer will raise a TypeError\n",
    "print(a + \" dollars\")"
   ]
  },
  {
   "cell_type": "code",
   "execution_count": null,
   "metadata": {},
   "outputs": [],
   "source": [
    "# Use str() to cast an integer to a string\n",
    "print( str(c) + \" dollars\")"
   ]
  },
  {
   "cell_type": "markdown",
   "metadata": {},
   "source": [
    "### Basic Math"
   ]
  },
  {
   "cell_type": "code",
   "execution_count": null,
   "metadata": {},
   "outputs": [],
   "source": [
    "# Add +\n",
    "print(20 + 10)\n",
    "\n",
    "# Substract\n",
    "print( 20 - 10)\n",
    "\n",
    "# Multiply *\n",
    "print( 20 * 10)\n",
    "\n",
    "# Division /\n",
    "print(20 / 10)\n",
    "\n",
    "# Division always returns a float\n",
    "print(type(20 / 10))\n",
    "\n",
    "# Even if the answer is a whole number\n",
    "print(20 / 3)\n",
    "print(type(20 / 3))"
   ]
  },
  {
   "cell_type": "markdown",
   "metadata": {},
   "source": [
    "### Strings\n",
    "\n",
    "String in python can be surrounded by either single and doube quotes, both work the same.\n",
    "\n",
    "PEP8 does not make a recommendation regarding quotes, use whichever one feels right to you.\n"
   ]
  },
  {
   "cell_type": "code",
   "execution_count": null,
   "metadata": {},
   "outputs": [],
   "source": [
    "str1 = 'A string'\n",
    "print(type(str1))\n",
    "print(str1)\n",
    "\n",
    "str2 = 'is a string'\n",
    "print(type(str2))\n",
    "print(str2)\n",
    "\n",
    "# + operator concatenates two strings and returns type 'str'\n",
    "print(type(str1 + str2))\n",
    "print(str1 + str2)\n",
    "\n",
    "# sending multiple arguments will output with a space seperator\n",
    "print( str1, str2)"
   ]
  },
  {
   "cell_type": "markdown",
   "metadata": {},
   "source": [
    "## range()\n",
    "\n",
    "I always get tripped up with range()"
   ]
  },
  {
   "cell_type": "code",
   "execution_count": null,
   "metadata": {},
   "outputs": [],
   "source": [
    "# Range returns a sequence of numbers\n",
    "a=range(5)\n",
    "# range() does not return a list, it's an instance of the range class\n",
    "print(type(a))\n",
    "print('len=', len(a))\n",
    "print(len(a))\n",
    "for i in a:\n",
    "    print(i)"
   ]
  },
  {
   "cell_type": "code",
   "execution_count": null,
   "metadata": {},
   "outputs": [],
   "source": [
    "b=range(0, 5)\n",
    "print(b)\n",
    "print(len(b))\n",
    "for i in b:\n",
    "    print(i)\n",
    "    \n"
   ]
  },
  {
   "cell_type": "code",
   "execution_count": null,
   "metadata": {},
   "outputs": [],
   "source": [
    "# This doesnt work\n",
    "c=range(,5)\n",
    "print(c)\n",
    "print(len(c))\n",
    "for i in c:\n",
    "    print(i)"
   ]
  },
  {
   "cell_type": "code",
   "execution_count": null,
   "metadata": {},
   "outputs": [],
   "source": [
    "# range class several useful attributes\n",
    "daysofcode = range(1,100)\n",
    "\n",
    "print(daysofcode.start)\n",
    "print(daysofcode.stop)\n",
    "print(daysofcode.step)"
   ]
  },
  {
   "cell_type": "code",
   "execution_count": null,
   "metadata": {},
   "outputs": [],
   "source": [
    "# Range in Reverse, almost\n",
    "b = range(10, 1, -1)\n",
    "\n",
    "for i in b:\n",
    "    print(i)"
   ]
  },
  {
   "cell_type": "code",
   "execution_count": null,
   "metadata": {},
   "outputs": [],
   "source": [
    "# In reverse it will need to be range(10, 0, -1). but what about 0???\n",
    "b = range(10, 0, -1)\n",
    "\n",
    "for i in b:\n",
    "    print(i)"
   ]
  },
  {
   "cell_type": "code",
   "execution_count": null,
   "metadata": {},
   "outputs": [],
   "source": [
    "# Negative range will step up towards 0\n",
    "b = range(-10, 1)\n",
    "\n",
    "for i in b:\n",
    "    print(i)"
   ]
  },
  {
   "cell_type": "code",
   "execution_count": null,
   "metadata": {},
   "outputs": [],
   "source": [
    "# Negative range with negative step also steps up towards 0 but stops at -2\n",
    "# I'm really confused by this behaviour????\n",
    "b = range(-10, -1)\n",
    "\n",
    "for i in b:\n",
    "    print(i)"
   ]
  },
  {
   "cell_type": "markdown",
   "metadata": {},
   "source": [
    "### String encoding types ascii, utf8, bytes"
   ]
  },
  {
   "cell_type": "code",
   "execution_count": null,
   "metadata": {},
   "outputs": [],
   "source": [
    "str1 = 'Hello World'\n",
    "print(type(str1))\n",
    "print(str1)\n",
    "\n",
    "print() # blank line\n",
    "\n",
    "str2 = b'Hello World'\n",
    "# A byte string is not of type str\n",
    "print(type(str2))\n",
    "print(str2)"
   ]
  },
  {
   "cell_type": "code",
   "execution_count": null,
   "metadata": {},
   "outputs": [],
   "source": [
    "# Comparing regular string and byte strings\n",
    "\n",
    "print(\"\\nLet's compare str1 to str2...\")\n",
    "\n",
    "if str1 == str2:\n",
    "    print('They Match')\n",
    "else:\n",
    "    print('They do not match')"
   ]
  },
  {
   "cell_type": "code",
   "execution_count": null,
   "metadata": {},
   "outputs": [],
   "source": [
    "# Converting byte strings to reglar string\n",
    "print(type(str2))\n",
    "\n",
    "print(str2.decode())   # .decode(encoding=utf-8) \n",
    "print(type(str2.decode()))\n",
    "\n",
    "# Encode regular string to bytes\n",
    "print(str1.encode())\n",
    "print(type(str1.encode()))"
   ]
  },
  {
   "cell_type": "markdown",
   "metadata": {},
   "source": [
    "This notebook is part of my **#100DaysofCode Python Edition** project.\n",
    "\n",
    "* [View Github Repo](https://github.com/joncutrer/100DaysOfCode2019)\n",
    "* [Follow along on jcutrer.com](https://jcutrer.com/100daysofcode/2019-index?utm_source=github&utm_medium=python_notebook&utm_campaign=100daysofcode)"
   ]
  }
 ],
 "metadata": {
  "kernelspec": {
   "display_name": "Python 3",
   "language": "python",
   "name": "python3"
  },
  "language_info": {
   "codemirror_mode": {
    "name": "ipython",
    "version": 3
   },
   "file_extension": ".py",
   "mimetype": "text/x-python",
   "name": "python",
   "nbconvert_exporter": "python",
   "pygments_lexer": "ipython3",
   "version": "3.6.7"
  }
 },
 "nbformat": 4,
 "nbformat_minor": 2
}
